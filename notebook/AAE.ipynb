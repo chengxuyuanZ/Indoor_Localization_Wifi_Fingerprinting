{
 "cells": [
  {
   "cell_type": "code",
   "execution_count": 1,
   "metadata": {},
   "outputs": [],
   "source": [
    "import torch\n",
    "import matplotlib.pyplot as plt\n",
    "import numpy as np\n",
    "import sklearn\n",
    "import lightgbm as lgb\n",
    "\n",
    "class UJIDataset(torch.utils.data.Dataset):\n",
    "    def __init__(self, root, train = True, transform = None, target_transform = None, download = False):\n",
    "        self.root = root\n",
    "        dir_path = self.root + '/UJIndoorLoc'\n",
    "        zip_path = self.root + '/uji_uil.zip'\n",
    "        dataset_training_file = dir_path + '/trainingData.csv'\n",
    "        dataset_validation_file = dir_path + '/validationData.csv'\n",
    "        # Load independent variables (WAPs values)\n",
    "        if train:\n",
    "            dataset_file = dataset_training_file\n",
    "        else:\n",
    "            dataset_file = dataset_validation_file\n",
    "        file = open(dataset_file, 'r')\n",
    "        # Load labels\n",
    "        label = file.readline()\n",
    "        label = label.split(',')\n",
    "        # Load independent variables\n",
    "        file_load = np.loadtxt(file, delimiter = ',', skiprows = 1)\n",
    "        #file_load_label = np.loadtxt(file, delimiter = ',')\n",
    "        #data = np.genfromtxt(file, dtype = float, delimiter = ',', names = True)\n",
    "        # RSSI values\n",
    "        self.x = file_load[:, 0 : 520]\n",
    "        # Load dependent variables\n",
    "        self.y = file_load[:, 520 : 524]\n",
    "        # Divide labels into x and y\n",
    "        self.x_label = label[0 : 520]\n",
    "        self.x_label = np.concatenate([self.x_label, label[524: 529]])\n",
    "        self.y_label = label[520 : 524]\n",
    "        # Regularization of independent variables\n",
    "        self.x[self.x == 100] = np.nan    # WAP not detected\n",
    "        self.x = self.x + 104             # Convert into positive values\n",
    "        self.x = self.x / 104             # Regularize into scale between 0 and 1\n",
    "        # Building ID, Space ID, Relative Position, User ID, Phone ID and Timestamp respectively\n",
    "        self.x = np.concatenate([self.x, file_load[:, 524 : 529]], axis = 1)\n",
    "        file.close()\n",
    "        # Reduce the number of dependent variables by combining building number and floor into one variable: area\n",
    "        self.area = self.y[:, 3] * 5 + self.y[:, 2]\n",
    "    def to_tensor(self):\n",
    "        self.x = torch.from_numpy(self.x).float()\n",
    "        self.y = torch.from_numpy(self.y).float()\n",
    "        self.area = torch.from_numpy(self.area).float()\n",
    "    def nan_to_zero(self):\n",
    "        self.x = np.nan_to_num(self.x)\n",
    "    # Return the target instance (row)\n",
    "    def __getitem__(self, index_row):\n",
    "        return self.x[index_row, :], self.y[index_row, :]\n",
    "    # Return the number of instances (the number of rows)\n",
    "    def __len__(self, dim = 0):\n",
    "        return int(self.x.size()[0])"
   ]
  },
  {
   "cell_type": "markdown",
   "metadata": {},
   "source": [
    "Import dataset with lightgbm"
   ]
  },
  {
   "cell_type": "code",
   "execution_count": 2,
   "metadata": {},
   "outputs": [
    {
     "name": "stdout",
     "output_type": "stream",
     "text": [
      "tensor([[0., 0.],\n",
      "        [0., 0.]])\n",
      "tensor([[0., 0., 1., 1.],\n",
      "        [0., 0., 1., 1.]])\n"
     ]
    }
   ],
   "source": [
    "a = torch.zeros([2,2])\n",
    "print(a)\n",
    "b = torch.ones([2,2])\n",
    "c = torch.cat((a, b), dim = 1)\n",
    "print(c)"
   ]
  },
  {
   "cell_type": "code",
   "execution_count": 3,
   "metadata": {},
   "outputs": [],
   "source": [
    "# Load training dataset\n",
    "dataset_train = UJIDataset('./data', train = True)\n",
    "dataset_validate = UJIDataset('./data', train = False)\n",
    "#gb_train_data = lgb.Dataset("
   ]
  },
  {
   "cell_type": "code",
   "execution_count": 4,
   "metadata": {},
   "outputs": [
    {
     "name": "stdout",
     "output_type": "stream",
     "text": [
      "['WAP001' 'WAP002' 'WAP003' 'WAP004' 'WAP005' 'WAP006' 'WAP007' 'WAP008'\n",
      " 'WAP009' 'WAP010' 'WAP011' 'WAP012' 'WAP013' 'WAP014' 'WAP015' 'WAP016'\n",
      " 'WAP017' 'WAP018' 'WAP019' 'WAP020' 'WAP021' 'WAP022' 'WAP023' 'WAP024'\n",
      " 'WAP025' 'WAP026' 'WAP027' 'WAP028' 'WAP029' 'WAP030' 'WAP031' 'WAP032'\n",
      " 'WAP033' 'WAP034' 'WAP035' 'WAP036' 'WAP037' 'WAP038' 'WAP039' 'WAP040'\n",
      " 'WAP041' 'WAP042' 'WAP043' 'WAP044' 'WAP045' 'WAP046' 'WAP047' 'WAP048'\n",
      " 'WAP049' 'WAP050' 'WAP051' 'WAP052' 'WAP053' 'WAP054' 'WAP055' 'WAP056'\n",
      " 'WAP057' 'WAP058' 'WAP059' 'WAP060' 'WAP061' 'WAP062' 'WAP063' 'WAP064'\n",
      " 'WAP065' 'WAP066' 'WAP067' 'WAP068' 'WAP069' 'WAP070' 'WAP071' 'WAP072'\n",
      " 'WAP073' 'WAP074' 'WAP075' 'WAP076' 'WAP077' 'WAP078' 'WAP079' 'WAP080'\n",
      " 'WAP081' 'WAP082' 'WAP083' 'WAP084' 'WAP085' 'WAP086' 'WAP087' 'WAP088'\n",
      " 'WAP089' 'WAP090' 'WAP091' 'WAP092' 'WAP093' 'WAP094' 'WAP095' 'WAP096'\n",
      " 'WAP097' 'WAP098' 'WAP099' 'WAP100' 'WAP101' 'WAP102' 'WAP103' 'WAP104'\n",
      " 'WAP105' 'WAP106' 'WAP107' 'WAP108' 'WAP109' 'WAP110' 'WAP111' 'WAP112'\n",
      " 'WAP113' 'WAP114' 'WAP115' 'WAP116' 'WAP117' 'WAP118' 'WAP119' 'WAP120'\n",
      " 'WAP121' 'WAP122' 'WAP123' 'WAP124' 'WAP125' 'WAP126' 'WAP127' 'WAP128'\n",
      " 'WAP129' 'WAP130' 'WAP131' 'WAP132' 'WAP133' 'WAP134' 'WAP135' 'WAP136'\n",
      " 'WAP137' 'WAP138' 'WAP139' 'WAP140' 'WAP141' 'WAP142' 'WAP143' 'WAP144'\n",
      " 'WAP145' 'WAP146' 'WAP147' 'WAP148' 'WAP149' 'WAP150' 'WAP151' 'WAP152'\n",
      " 'WAP153' 'WAP154' 'WAP155' 'WAP156' 'WAP157' 'WAP158' 'WAP159' 'WAP160'\n",
      " 'WAP161' 'WAP162' 'WAP163' 'WAP164' 'WAP165' 'WAP166' 'WAP167' 'WAP168'\n",
      " 'WAP169' 'WAP170' 'WAP171' 'WAP172' 'WAP173' 'WAP174' 'WAP175' 'WAP176'\n",
      " 'WAP177' 'WAP178' 'WAP179' 'WAP180' 'WAP181' 'WAP182' 'WAP183' 'WAP184'\n",
      " 'WAP185' 'WAP186' 'WAP187' 'WAP188' 'WAP189' 'WAP190' 'WAP191' 'WAP192'\n",
      " 'WAP193' 'WAP194' 'WAP195' 'WAP196' 'WAP197' 'WAP198' 'WAP199' 'WAP200'\n",
      " 'WAP201' 'WAP202' 'WAP203' 'WAP204' 'WAP205' 'WAP206' 'WAP207' 'WAP208'\n",
      " 'WAP209' 'WAP210' 'WAP211' 'WAP212' 'WAP213' 'WAP214' 'WAP215' 'WAP216'\n",
      " 'WAP217' 'WAP218' 'WAP219' 'WAP220' 'WAP221' 'WAP222' 'WAP223' 'WAP224'\n",
      " 'WAP225' 'WAP226' 'WAP227' 'WAP228' 'WAP229' 'WAP230' 'WAP231' 'WAP232'\n",
      " 'WAP233' 'WAP234' 'WAP235' 'WAP236' 'WAP237' 'WAP238' 'WAP239' 'WAP240'\n",
      " 'WAP241' 'WAP242' 'WAP243' 'WAP244' 'WAP245' 'WAP246' 'WAP247' 'WAP248'\n",
      " 'WAP249' 'WAP250' 'WAP251' 'WAP252' 'WAP253' 'WAP254' 'WAP255' 'WAP256'\n",
      " 'WAP257' 'WAP258' 'WAP259' 'WAP260' 'WAP261' 'WAP262' 'WAP263' 'WAP264'\n",
      " 'WAP265' 'WAP266' 'WAP267' 'WAP268' 'WAP269' 'WAP270' 'WAP271' 'WAP272'\n",
      " 'WAP273' 'WAP274' 'WAP275' 'WAP276' 'WAP277' 'WAP278' 'WAP279' 'WAP280'\n",
      " 'WAP281' 'WAP282' 'WAP283' 'WAP284' 'WAP285' 'WAP286' 'WAP287' 'WAP288'\n",
      " 'WAP289' 'WAP290' 'WAP291' 'WAP292' 'WAP293' 'WAP294' 'WAP295' 'WAP296'\n",
      " 'WAP297' 'WAP298' 'WAP299' 'WAP300' 'WAP301' 'WAP302' 'WAP303' 'WAP304'\n",
      " 'WAP305' 'WAP306' 'WAP307' 'WAP308' 'WAP309' 'WAP310' 'WAP311' 'WAP312'\n",
      " 'WAP313' 'WAP314' 'WAP315' 'WAP316' 'WAP317' 'WAP318' 'WAP319' 'WAP320'\n",
      " 'WAP321' 'WAP322' 'WAP323' 'WAP324' 'WAP325' 'WAP326' 'WAP327' 'WAP328'\n",
      " 'WAP329' 'WAP330' 'WAP331' 'WAP332' 'WAP333' 'WAP334' 'WAP335' 'WAP336'\n",
      " 'WAP337' 'WAP338' 'WAP339' 'WAP340' 'WAP341' 'WAP342' 'WAP343' 'WAP344'\n",
      " 'WAP345' 'WAP346' 'WAP347' 'WAP348' 'WAP349' 'WAP350' 'WAP351' 'WAP352'\n",
      " 'WAP353' 'WAP354' 'WAP355' 'WAP356' 'WAP357' 'WAP358' 'WAP359' 'WAP360'\n",
      " 'WAP361' 'WAP362' 'WAP363' 'WAP364' 'WAP365' 'WAP366' 'WAP367' 'WAP368'\n",
      " 'WAP369' 'WAP370' 'WAP371' 'WAP372' 'WAP373' 'WAP374' 'WAP375' 'WAP376'\n",
      " 'WAP377' 'WAP378' 'WAP379' 'WAP380' 'WAP381' 'WAP382' 'WAP383' 'WAP384'\n",
      " 'WAP385' 'WAP386' 'WAP387' 'WAP388' 'WAP389' 'WAP390' 'WAP391' 'WAP392'\n",
      " 'WAP393' 'WAP394' 'WAP395' 'WAP396' 'WAP397' 'WAP398' 'WAP399' 'WAP400'\n",
      " 'WAP401' 'WAP402' 'WAP403' 'WAP404' 'WAP405' 'WAP406' 'WAP407' 'WAP408'\n",
      " 'WAP409' 'WAP410' 'WAP411' 'WAP412' 'WAP413' 'WAP414' 'WAP415' 'WAP416'\n",
      " 'WAP417' 'WAP418' 'WAP419' 'WAP420' 'WAP421' 'WAP422' 'WAP423' 'WAP424'\n",
      " 'WAP425' 'WAP426' 'WAP427' 'WAP428' 'WAP429' 'WAP430' 'WAP431' 'WAP432'\n",
      " 'WAP433' 'WAP434' 'WAP435' 'WAP436' 'WAP437' 'WAP438' 'WAP439' 'WAP440'\n",
      " 'WAP441' 'WAP442' 'WAP443' 'WAP444' 'WAP445' 'WAP446' 'WAP447' 'WAP448'\n",
      " 'WAP449' 'WAP450' 'WAP451' 'WAP452' 'WAP453' 'WAP454' 'WAP455' 'WAP456'\n",
      " 'WAP457' 'WAP458' 'WAP459' 'WAP460' 'WAP461' 'WAP462' 'WAP463' 'WAP464'\n",
      " 'WAP465' 'WAP466' 'WAP467' 'WAP468' 'WAP469' 'WAP470' 'WAP471' 'WAP472'\n",
      " 'WAP473' 'WAP474' 'WAP475' 'WAP476' 'WAP477' 'WAP478' 'WAP479' 'WAP480'\n",
      " 'WAP481' 'WAP482' 'WAP483' 'WAP484' 'WAP485' 'WAP486' 'WAP487' 'WAP488'\n",
      " 'WAP489' 'WAP490' 'WAP491' 'WAP492' 'WAP493' 'WAP494' 'WAP495' 'WAP496'\n",
      " 'WAP497' 'WAP498' 'WAP499' 'WAP500' 'WAP501' 'WAP502' 'WAP503' 'WAP504'\n",
      " 'WAP505' 'WAP506' 'WAP507' 'WAP508' 'WAP509' 'WAP510' 'WAP511' 'WAP512'\n",
      " 'WAP513' 'WAP514' 'WAP515' 'WAP516' 'WAP517' 'WAP518' 'WAP519' 'WAP520'\n",
      " 'SPACEID' 'RELATIVEPOSITION' 'USERID' 'PHONEID' 'TIMESTAMP\\n']\n"
     ]
    }
   ],
   "source": [
    "print(dataset_train.x_label)"
   ]
  },
  {
   "cell_type": "code",
   "execution_count": 5,
   "metadata": {},
   "outputs": [],
   "source": [
    "#dataset_train.nan_to_zero()\n",
    "#dataset_validate.nan_to_zero()\n",
    "#dataset_train.to_tensor()\n",
    "#dataset_validate.to_tensor()"
   ]
  },
  {
   "cell_type": "code",
   "execution_count": 6,
   "metadata": {},
   "outputs": [
    {
     "name": "stdout",
     "output_type": "stream",
     "text": [
      "[[-7.53662120e+03  4.86493423e+06  2.00000000e+00  1.00000000e+00]\n",
      " [-7.51915240e+03  4.86494953e+06  2.00000000e+00  1.00000000e+00]\n",
      " [-7.52457040e+03  4.86493409e+06  2.00000000e+00  1.00000000e+00]\n",
      " ...\n",
      " [-7.51684150e+03  4.86488929e+06  3.00000000e+00  1.00000000e+00]\n",
      " [-7.53732190e+03  4.86489578e+06  3.00000000e+00  1.00000000e+00]\n",
      " [-7.53616580e+03  4.86489786e+06  3.00000000e+00  1.00000000e+00]]\n"
     ]
    }
   ],
   "source": [
    "print(dataset_train.y)"
   ]
  },
  {
   "cell_type": "code",
   "execution_count": 7,
   "metadata": {},
   "outputs": [],
   "source": [
    "x_train, x_validate, y_train, y_validate = sklearn.model_selection.train_test_split(dataset_train.x, dataset_train.y, test_size = 0.2, random_state = 42)"
   ]
  },
  {
   "cell_type": "code",
   "execution_count": 8,
   "metadata": {},
   "outputs": [
    {
     "name": "stdout",
     "output_type": "stream",
     "text": [
      "[[-7.68013460e+03  4.86493149e+06  0.00000000e+00  0.00000000e+00]\n",
      " [-7.37280290e+03  4.86484930e+06  4.00000000e+00  2.00000000e+00]\n",
      " [-7.37707827e+03  4.86484296e+06  0.00000000e+00  2.00000000e+00]\n",
      " ...\n",
      " [-7.40199620e+03  4.86479002e+06  0.00000000e+00  2.00000000e+00]\n",
      " [-7.36838610e+03  4.86476941e+06  3.00000000e+00  2.00000000e+00]\n",
      " [-7.64097620e+03  4.86501066e+06  0.00000000e+00  0.00000000e+00]]\n"
     ]
    }
   ],
   "source": [
    "print(y_train)"
   ]
  },
  {
   "cell_type": "code",
   "execution_count": 9,
   "metadata": {},
   "outputs": [],
   "source": [
    "dataset_train_reg_long_lgb = lgb.Dataset(x_train, label = y_train[:, 0])\n",
    "dataset_validate_reg_long_lgb = lgb.Dataset(x_validate, label = y_validate[:, 0])\n",
    "dataset_train_reg_lat_lgb = lgb.Dataset(x_train, label = y_train[:, 1])\n",
    "dataset_validate_reg_lat_lgb = lgb.Dataset(x_validate, label = y_validate[:, 1])\n",
    "dataset_train_cat_floor_lgb = lgb.Dataset(x_train, label = y_train[:, 2])\n",
    "dataset_validate_cat_floor_lgb = lgb.Dataset(x_validate, label = y_validate[:, 2])\n",
    "dataset_train_cat_building_lgb = lgb.Dataset(x_train, label = y_train[:, 3])\n",
    "dataset_validate_cat_building_lgb = lgb.Dataset(x_validate, label = y_validate[:, 3])"
   ]
  },
  {
   "cell_type": "code",
   "execution_count": 10,
   "metadata": {},
   "outputs": [],
   "source": [
    "params_reg = {'learning_rate': 0.001,\n",
    "              'num_boost_round': 1000,\n",
    "              'max_depth': 16,\n",
    "              'boosting': 'gbdt', \n",
    "              'objective': 'regression', \n",
    "              'metric': 'mae', \n",
    "              'is_training_metric': True, \n",
    "              'num_leaves': 1440,  \n",
    "              #'feature_fraction': 0.9, \n",
    "              'bagging_fraction': 0.8, \n",
    "              'bagging_freq': 5, \n",
    "              #'seed':2018\n",
    "             }\n",
    "params_cat_building = {'learning_rate': 0.002,\n",
    "              'num_boost_round': 500,\n",
    "              'max_depth': 16,\n",
    "              'boosting': 'rf',\n",
    "              'objective': 'multiclass',\n",
    "              'num_class': 3,\n",
    "              'metric': 'multi_logloss',\n",
    "              'is_training_metric': True,\n",
    "              'num_leaves': 144,\n",
    "              #'feature_fraction': 0.97,\n",
    "              'bagging_fraction': 0.7,\n",
    "              'bagging_freq': 5,\n",
    "             }\n",
    "params_cat_floor = {'learning_rate': 0.002,\n",
    "              'num_boost_round': 500,\n",
    "              'max_depth': 16,\n",
    "              'boosting': 'rf',\n",
    "              'objective': 'multiclass',\n",
    "              'num_class': 5,\n",
    "              'metric': 'multi_logloss',\n",
    "              'is_training_metric': True,\n",
    "              'num_leaves': 144,\n",
    "              #'feature_fraction': 0.97,\n",
    "              'bagging_fraction': 0.7,\n",
    "              'bagging_freq': 5,\n",
    "             }"
   ]
  },
  {
   "cell_type": "code",
   "execution_count": 11,
   "metadata": {},
   "outputs": [
    {
     "name": "stderr",
     "output_type": "stream",
     "text": [
      "/home/lees/anaconda3/envs/pytorch_3.7/lib/python3.7/site-packages/lightgbm/engine.py:148: UserWarning: Found `num_boost_round` in params. Will use it instead of argument\n",
      "  warnings.warn(\"Found `{}` in params. Will use it instead of argument\".format(alias))\n"
     ]
    }
   ],
   "source": [
    "model_reg_long_lgb = lgb.train(params_reg, dataset_train_reg_long_lgb, dataset_validate_reg_long_lgb, verbose_eval = 100)#, early_stopping_rounds = 100)\n",
    "model_reg_lat_lgb = lgb.train(params_reg, dataset_train_reg_lat_lgb, dataset_validate_reg_lat_lgb, verbose_eval = 100)#, early_stopping_rounds = 100)\n",
    "model_cat_floor_lgb = lgb.train(params_cat_floor, dataset_train_cat_floor_lgb, dataset_validate_cat_floor_lgb, verbose_eval = 100)#, early_stopping_rounds = 100)\n",
    "model_cat_building_lgb = lgb.train(params_cat_building, dataset_train_cat_building_lgb, dataset_validate_cat_building_lgb, verbose_eval = 100)#, early_stopping_rounds = 100)\n"
   ]
  },
  {
   "cell_type": "code",
   "execution_count": 27,
   "metadata": {},
   "outputs": [],
   "source": [
    "predict_long_train = model_reg_long_lgb.predict(x_train)\n",
    "predict_long_validate = model_reg_long_lgb.predict(x_validate)\n",
    "predict_lat_train = model_reg_lat_lgb.predict(x_train)\n",
    "predict_lat_validate = model_reg_lat_lgb.predict(x_validate)\n",
    "predict_floor_train = model_cat_floor_lgb.predict(x_train)\n",
    "predict_floor_validate = model_cat_floor_lgb.predict(x_validate)\n",
    "predict_building_train = model_cat_building_lgb.predict(x_train)\n",
    "predict_building_validate = model_cat_building_lgb.predict(x_validate)"
   ]
  },
  {
   "cell_type": "code",
   "execution_count": 19,
   "metadata": {},
   "outputs": [
    {
     "ename": "ValueError",
     "evalue": "y_true and y_pred have different number of output (1!=5)",
     "output_type": "error",
     "traceback": [
      "\u001b[0;31m---------------------------------------------------------------------------\u001b[0m",
      "\u001b[0;31mValueError\u001b[0m                                Traceback (most recent call last)",
      "\u001b[0;32m<ipython-input-19-d4a7f2e852c4>\u001b[0m in \u001b[0;36m<module>\u001b[0;34m\u001b[0m\n\u001b[1;32m      1\u001b[0m \u001b[0mmse_long\u001b[0m \u001b[0;34m=\u001b[0m \u001b[0msklearn\u001b[0m\u001b[0;34m.\u001b[0m\u001b[0mmetrics\u001b[0m\u001b[0;34m.\u001b[0m\u001b[0mmean_squared_error\u001b[0m\u001b[0;34m(\u001b[0m\u001b[0my_validate\u001b[0m\u001b[0;34m[\u001b[0m\u001b[0;34m:\u001b[0m\u001b[0;34m,\u001b[0m \u001b[0;36m0\u001b[0m\u001b[0;34m]\u001b[0m\u001b[0;34m,\u001b[0m \u001b[0mpredict_long_test\u001b[0m\u001b[0;34m)\u001b[0m\u001b[0;34m\u001b[0m\u001b[0;34m\u001b[0m\u001b[0m\n\u001b[1;32m      2\u001b[0m \u001b[0mmse_lat\u001b[0m \u001b[0;34m=\u001b[0m \u001b[0msklearn\u001b[0m\u001b[0;34m.\u001b[0m\u001b[0mmetrics\u001b[0m\u001b[0;34m.\u001b[0m\u001b[0mmean_squared_error\u001b[0m\u001b[0;34m(\u001b[0m\u001b[0my_validate\u001b[0m\u001b[0;34m[\u001b[0m\u001b[0;34m:\u001b[0m\u001b[0;34m,\u001b[0m \u001b[0;36m1\u001b[0m\u001b[0;34m]\u001b[0m\u001b[0;34m,\u001b[0m \u001b[0mpredict_lat_test\u001b[0m\u001b[0;34m)\u001b[0m\u001b[0;34m\u001b[0m\u001b[0;34m\u001b[0m\u001b[0m\n\u001b[0;32m----> 3\u001b[0;31m \u001b[0mmse_floor\u001b[0m \u001b[0;34m=\u001b[0m \u001b[0msklearn\u001b[0m\u001b[0;34m.\u001b[0m\u001b[0mmetrics\u001b[0m\u001b[0;34m.\u001b[0m\u001b[0mmean_squared_error\u001b[0m\u001b[0;34m(\u001b[0m\u001b[0my_validate\u001b[0m\u001b[0;34m[\u001b[0m\u001b[0;34m:\u001b[0m\u001b[0;34m,\u001b[0m \u001b[0;36m2\u001b[0m\u001b[0;34m]\u001b[0m\u001b[0;34m,\u001b[0m \u001b[0mpredict_floor_test\u001b[0m\u001b[0;34m)\u001b[0m\u001b[0;34m\u001b[0m\u001b[0;34m\u001b[0m\u001b[0m\n\u001b[0m\u001b[1;32m      4\u001b[0m \u001b[0mmse_building\u001b[0m \u001b[0;34m=\u001b[0m \u001b[0msklearn\u001b[0m\u001b[0;34m.\u001b[0m\u001b[0mmetrics\u001b[0m\u001b[0;34m.\u001b[0m\u001b[0mmean_squared_error\u001b[0m\u001b[0;34m(\u001b[0m\u001b[0my_validate\u001b[0m\u001b[0;34m[\u001b[0m\u001b[0;34m:\u001b[0m\u001b[0;34m,\u001b[0m \u001b[0;36m3\u001b[0m\u001b[0;34m]\u001b[0m\u001b[0;34m,\u001b[0m \u001b[0mpredict_building_test\u001b[0m\u001b[0;34m)\u001b[0m\u001b[0;34m\u001b[0m\u001b[0;34m\u001b[0m\u001b[0m\n",
      "\u001b[0;32m~/anaconda3/envs/pytorch_3.7/lib/python3.7/site-packages/sklearn/metrics/regression.py\u001b[0m in \u001b[0;36mmean_squared_error\u001b[0;34m(y_true, y_pred, sample_weight, multioutput)\u001b[0m\n\u001b[1;32m    239\u001b[0m     \"\"\"\n\u001b[1;32m    240\u001b[0m     y_type, y_true, y_pred, multioutput = _check_reg_targets(\n\u001b[0;32m--> 241\u001b[0;31m         y_true, y_pred, multioutput)\n\u001b[0m\u001b[1;32m    242\u001b[0m     \u001b[0mcheck_consistent_length\u001b[0m\u001b[0;34m(\u001b[0m\u001b[0my_true\u001b[0m\u001b[0;34m,\u001b[0m \u001b[0my_pred\u001b[0m\u001b[0;34m,\u001b[0m \u001b[0msample_weight\u001b[0m\u001b[0;34m)\u001b[0m\u001b[0;34m\u001b[0m\u001b[0;34m\u001b[0m\u001b[0m\n\u001b[1;32m    243\u001b[0m     output_errors = np.average((y_true - y_pred) ** 2, axis=0,\n",
      "\u001b[0;32m~/anaconda3/envs/pytorch_3.7/lib/python3.7/site-packages/sklearn/metrics/regression.py\u001b[0m in \u001b[0;36m_check_reg_targets\u001b[0;34m(y_true, y_pred, multioutput)\u001b[0m\n\u001b[1;32m     87\u001b[0m     \u001b[0;32mif\u001b[0m \u001b[0my_true\u001b[0m\u001b[0;34m.\u001b[0m\u001b[0mshape\u001b[0m\u001b[0;34m[\u001b[0m\u001b[0;36m1\u001b[0m\u001b[0;34m]\u001b[0m \u001b[0;34m!=\u001b[0m \u001b[0my_pred\u001b[0m\u001b[0;34m.\u001b[0m\u001b[0mshape\u001b[0m\u001b[0;34m[\u001b[0m\u001b[0;36m1\u001b[0m\u001b[0;34m]\u001b[0m\u001b[0;34m:\u001b[0m\u001b[0;34m\u001b[0m\u001b[0;34m\u001b[0m\u001b[0m\n\u001b[1;32m     88\u001b[0m         raise ValueError(\"y_true and y_pred have different number of output \"\n\u001b[0;32m---> 89\u001b[0;31m                          \"({0}!={1})\".format(y_true.shape[1], y_pred.shape[1]))\n\u001b[0m\u001b[1;32m     90\u001b[0m \u001b[0;34m\u001b[0m\u001b[0m\n\u001b[1;32m     91\u001b[0m     \u001b[0mn_outputs\u001b[0m \u001b[0;34m=\u001b[0m \u001b[0my_true\u001b[0m\u001b[0;34m.\u001b[0m\u001b[0mshape\u001b[0m\u001b[0;34m[\u001b[0m\u001b[0;36m1\u001b[0m\u001b[0;34m]\u001b[0m\u001b[0;34m\u001b[0m\u001b[0;34m\u001b[0m\u001b[0m\n",
      "\u001b[0;31mValueError\u001b[0m: y_true and y_pred have different number of output (1!=5)"
     ]
    }
   ],
   "source": [
    "mse_long = sklearn.metrics.mean_squared_error(y_validate[:, 0], predict_long_test)\n",
    "mse_lat = sklearn.metrics.mean_squared_error(y_validate[:, 1], predict_lat_test)\n",
    "mse_floor = sklearn.metrics.mean_squared_error(y_validate[:, 2], predict_floor_test)\n",
    "mse_building = sklearn.metrics.mean_squared_error(y_validate[:, 3], predict_building_test)"
   ]
  },
  {
   "cell_type": "code",
   "execution_count": 18,
   "metadata": {},
   "outputs": [
    {
     "name": "stdout",
     "output_type": "stream",
     "text": [
      "2112.669409702993\n"
     ]
    },
    {
     "ename": "NameError",
     "evalue": "name 'mse_lat' is not defined",
     "output_type": "error",
     "traceback": [
      "\u001b[0;31m---------------------------------------------------------------------------\u001b[0m",
      "\u001b[0;31mNameError\u001b[0m                                 Traceback (most recent call last)",
      "\u001b[0;32m<ipython-input-18-15f3db22c56e>\u001b[0m in \u001b[0;36m<module>\u001b[0;34m\u001b[0m\n\u001b[1;32m      1\u001b[0m \u001b[0mprint\u001b[0m\u001b[0;34m(\u001b[0m\u001b[0mmse_long\u001b[0m\u001b[0;34m)\u001b[0m\u001b[0;34m\u001b[0m\u001b[0;34m\u001b[0m\u001b[0m\n\u001b[0;32m----> 2\u001b[0;31m \u001b[0mprint\u001b[0m\u001b[0;34m(\u001b[0m\u001b[0mmse_lat\u001b[0m\u001b[0;34m)\u001b[0m\u001b[0;34m\u001b[0m\u001b[0;34m\u001b[0m\u001b[0m\n\u001b[0m\u001b[1;32m      3\u001b[0m \u001b[0mprint\u001b[0m\u001b[0;34m(\u001b[0m\u001b[0mmse_floor\u001b[0m\u001b[0;34m)\u001b[0m\u001b[0;34m\u001b[0m\u001b[0;34m\u001b[0m\u001b[0m\n\u001b[1;32m      4\u001b[0m \u001b[0mprint\u001b[0m\u001b[0;34m(\u001b[0m\u001b[0mmse_building\u001b[0m\u001b[0;34m)\u001b[0m\u001b[0;34m\u001b[0m\u001b[0;34m\u001b[0m\u001b[0m\n",
      "\u001b[0;31mNameError\u001b[0m: name 'mse_lat' is not defined"
     ]
    }
   ],
   "source": [
    "print(mse_long)\n",
    "print(mse_lat)\n",
    "print(mse_floor)\n",
    "print(mse_building)"
   ]
  },
  {
   "cell_type": "code",
   "execution_count": 37,
   "metadata": {},
   "outputs": [
    {
     "name": "stdout",
     "output_type": "stream",
     "text": [
      "[4864931.4921   4864849.3028   4864842.961439 ... 4864790.0184\n",
      " 4864769.4062   4865010.6595  ]\n",
      "[4864909.59856222 4864858.06103507 4864853.47590745 ... 4864832.36316475\n",
      " 4864806.97037601 4864956.7621106 ]\n"
     ]
    }
   ],
   "source": [
    "print(y_train[:, 1])\n",
    "print(predict_lat_train)"
   ]
  },
  {
   "cell_type": "code",
   "execution_count": 36,
   "metadata": {},
   "outputs": [
    {
     "name": "stdout",
     "output_type": "stream",
     "text": [
      "[-7680.1346     -7372.8029     -7377.07826999 ... -7401.9962\n",
      " -7368.3861     -7640.9762    ]\n",
      "[-7598.81364419 -7405.48140222 -7407.09954952 ... -7425.17448814\n",
      " -7404.14188336 -7575.80149271]\n",
      "[-7511.5215     -7535.39365217 -7348.8982     ... -7408.69525072\n",
      " -7445.55787384 -7390.7612    ]\n",
      "[-7495.09348868 -7509.55422871 -7391.1639951  ... -7433.20310066\n",
      " -7447.53077389 -7416.35507647]\n",
      "[0. 4. 0. ... 0. 3. 0.]\n",
      "[0 4 0 ... 0 3 0]\n",
      "[2. 2. 3. ... 2. 0. 3.]\n",
      "[2 2 3 ... 2 0 3]\n"
     ]
    }
   ],
   "source": [
    "print(y_train[:, 0])\n",
    "print(predict_long_train)\n",
    "print(y_validate[:, 0])\n",
    "print(predict_long_validate)\n",
    "print(y_train[:, 2])\n",
    "print(predict_floor_train.argmax(axis = 1))\n",
    "print(y_validate[:, 2])\n",
    "print(predict_floor_validate.argmax(axis = 1))"
   ]
  },
  {
   "cell_type": "code",
   "execution_count": 42,
   "metadata": {},
   "outputs": [
    {
     "name": "stdout",
     "output_type": "stream",
     "text": [
      "3988\n"
     ]
    }
   ],
   "source": [
    "print(len(predict_floor_validate))"
   ]
  },
  {
   "cell_type": "code",
   "execution_count": 43,
   "metadata": {},
   "outputs": [],
   "source": [
    "error_building_train = []\n",
    "error_building_validate = []\n",
    "error_floor_train = []\n",
    "error_floor_validate = []\n",
    "predict_floor_argmax_train = predict_floor_train.argmax(axis = 1)\n",
    "predict_floor_argmax_validate = predict_floor_validate.argmax(axis = 1)\n",
    "predict_building_argmax_train = predict_building_train.argmax(axis = 1)\n",
    "predict_building_argmax_validate = predict_building_validate.argmax(axis = 1)\n",
    "for i in range(len(predict_floor_train)):\n",
    "    if predict_floor_argmax_train[i] != y_train[i, 2]:\n",
    "        error_floor_train.append(i)\n",
    "    if predict_building_argmax_train[i] != y_train[i, 3]:\n",
    "        error_building_train.append(i)\n",
    "for i in range(len(predict_floor_validate)):\n",
    "    if predict_floor_argmax_validate[i] != y_validate[i, 2]:\n",
    "        error_floor_validate.append(i)\n",
    "    if predict_building_argmax_validate[i] != y_validate[i, 3]:\n",
    "        error_building_validate.append(i)"
   ]
  },
  {
   "cell_type": "code",
   "execution_count": 46,
   "metadata": {},
   "outputs": [
    {
     "name": "stdout",
     "output_type": "stream",
     "text": [
      "0.01310509154752947\n",
      "0.004075746175068974\n",
      "0.0007524454477050414\n",
      "0.00043892651116127413\n"
     ]
    }
   ],
   "source": [
    "error_rate_floor_train = len(error_floor_train) / len(predict_floor_train)\n",
    "print(error_rate_floor_train)\n",
    "error_rate_floor_validate = len(error_floor_validate) / len(predict_floor_train)\n",
    "print(error_rate_floor_validate)\n",
    "error_rate_building_train = len(error_building_train) / len(predict_building_train)\n",
    "print(error_rate_building_train)\n",
    "error_rate_building_validate = len(error_building_validate) / len(predict_building_train)\n",
    "print(error_rate_building_validate)"
   ]
  }
 ],
 "metadata": {
  "kernelspec": {
   "display_name": "Python 3",
   "language": "python",
   "name": "python3"
  },
  "language_info": {
   "codemirror_mode": {
    "name": "ipython",
    "version": 3
   },
   "file_extension": ".py",
   "mimetype": "text/x-python",
   "name": "python",
   "nbconvert_exporter": "python",
   "pygments_lexer": "ipython3",
   "version": "3.7.5"
  }
 },
 "nbformat": 4,
 "nbformat_minor": 4
}
